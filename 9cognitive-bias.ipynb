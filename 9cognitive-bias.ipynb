{
 "cells": [
  {
   "cell_type": "markdown",
   "metadata": {},
   "source": [
    "## Cognitive Bias\n",
    "![Daniel Kahneman](https://www.nobelprize.org/images/kahneman-13673-content-portrait-mobile-tiny.jpg)"
   ]
  },
  {
   "cell_type": "markdown",
   "metadata": {},
   "source": [
    "### Reading List"
   ]
  },
  {
   "cell_type": "markdown",
   "metadata": {},
   "source": [
    "[Maps of Bounded rationality](https://www.valuewalk.com/wp-content/uploads/2014/06/kahnemann-lecture.pdf), lecture by Daniel Kahneman"
   ]
  },
  {
   "cell_type": "markdown",
   "metadata": {},
   "source": [
    "[Judgment under Uncertainty: Heuristics and Biases](http://psiexp.ss.uci.edu/research/teaching/Tversky_Kahneman_1974.pdf), article by Amos Tversky and Daniel Kahneman"
   ]
  },
  {
   "cell_type": "markdown",
   "metadata": {},
   "source": [
    "[Cognitive Reflection and Decision Making](https://law.yale.edu/system/files/area/workshop/leo/document/Frederick_CognitiveReflectionandDecisionMaking.pdf), article by Shane Frederick"
   ]
  },
  {
   "cell_type": "markdown",
   "metadata": {},
   "source": [
    "### Problem"
   ]
  },
  {
   "cell_type": "markdown",
   "metadata": {},
   "source": [
    "A bat and a ball cost £1.10. The bat cost £1 more than the ball. How much does the ball cost?"
   ]
  },
  {
   "cell_type": "markdown",
   "metadata": {},
   "source": [
    "_Bat costs £1.05 and the ball costs £0.05_"
   ]
  },
  {
   "cell_type": "markdown",
   "metadata": {},
   "source": [
    "### [Heuristic Rule](http://wiki.c2.com/?HeuristicRule)\n",
    "\n",
    "A heuristic is a rule that provides a shortcut to solving difficult problems. Heuristics are used when you have limited time and/or information to make a decision. Heuristics lead you to a good decision most of the time. Heuristics are discussed in both computer science and psychology circles."
   ]
  },
  {
   "cell_type": "markdown",
   "metadata": {},
   "source": [
    "**Heuristics are good when:**\n",
    "* you have to make a spur-of-the-moment decision OR\n",
    "* you have limited information and cannot obtain more OR\n",
    "* the decision is not that important\n",
    "\n",
    "**Heuristics are bad when:**\n",
    "* you have plenty of time and information to make an important decision\n",
    "* you need to be right 100% of the time\n",
    "\n",
    "In the problem above we may have used a heuristic, but that would have lead to an incorrect answer, or logical fallacy. "
   ]
  },
  {
   "cell_type": "markdown",
   "metadata": {},
   "source": [
    "### Example of Logical Fallacy"
   ]
  },
  {
   "cell_type": "markdown",
   "metadata": {},
   "source": [
    "            All Roses are Flowers,\n",
    "\n",
    "            Some Flowers Fade Quickly,\n",
    "\n",
    "            Therefore some Roses Fade Quickly\n",
    "\n",
    "<br>\n",
    "\n",
    "Is this statement True or False? Not necessarily, in fact False. \n",
    "\n",
    "You cannot assume that there is a proportionate decay among Rose, just because it exists with some flowers."
   ]
  },
  {
   "cell_type": "markdown",
   "metadata": {},
   "source": [
    "### Another Example of Logical Fallacy"
   ]
  },
  {
   "cell_type": "markdown",
   "metadata": {},
   "source": [
    "            Linda is 31years old single outspoken and very bright. She majored in Philosophy. As a student she was deeply concerned with issues of discrimination and social justice and also participated in anti-nuclear demonstrations \n",
    "            \n",
    "            Which is more likely?\n",
    "                A. Linda is a bank teller\n",
    "                B. Linda is a bank teller and active in the feminist movement. \n",
    "                \n",
    "<br>                \n",
    "Most people say that B is more likely. BUT B can only be as likely as A, as A is contained in B."
   ]
  },
  {
   "cell_type": "markdown",
   "metadata": {},
   "source": [
    "### Aside\n",
    "\n",
    "These examples (particularly the example with Roses) remind me of cognitive tests TV show Orphan Black used. See similar examples [here](https://www.reddit.com/r/orphanblack/comments/34171s/let_me_see_these_mangos_riddles_questions_to/) on Reddit."
   ]
  },
  {
   "cell_type": "markdown",
   "metadata": {},
   "source": [
    "### Probability"
   ]
  },
  {
   "cell_type": "markdown",
   "metadata": {},
   "source": [
    "        Would you accept this gamble?\n",
    "        50% chance to win £150\n",
    "        50% chance to lose £100\n",
    "\n",
    "<br>\n",
    "Well we'd have to work out the expected value and not just assume that it's a good bet. \n",
    "\n",
    "Multiply the probability times the outcome and sum the results. 75-50 = 25\n",
    "\n",
    "This tells me that if I play this game an infinite number of time, I will come out with £25 profit. Another way of viewing it, is that my average winnings will be £25. \n",
    "\n",
    "Kahneman found that most people will not take this bet, due to risk aversion."
   ]
  },
  {
   "cell_type": "markdown",
   "metadata": {},
   "source": [
    "### Surveying"
   ]
  },
  {
   "cell_type": "markdown",
   "metadata": {},
   "source": [
    "        A person who is asked \"What proportion of long distance relationships break up within a year?\" may answer as if she \n",
    "        had been asked \"Do instances of swift breakups of long distance relationships come readily to mind?\""
   ]
  },
  {
   "cell_type": "markdown",
   "metadata": {},
   "source": [
    "Kahneman calls this the Availability Heuristic. It something is readily available in your mind, you will think occurances are more frequent that they are in reality. "
   ]
  },
  {
   "cell_type": "markdown",
   "metadata": {},
   "source": [
    "### Cognitive Bias\n",
    "\n",
    "Cognitive biases are biases people have in their own way of thinking. "
   ]
  }
 ],
 "metadata": {
  "kernelspec": {
   "display_name": "Python 3",
   "language": "python",
   "name": "python3"
  },
  "language_info": {
   "codemirror_mode": {
    "name": "ipython",
    "version": 3
   },
   "file_extension": ".py",
   "mimetype": "text/x-python",
   "name": "python",
   "nbconvert_exporter": "python",
   "pygments_lexer": "ipython3",
   "version": "3.6.5"
  }
 },
 "nbformat": 4,
 "nbformat_minor": 2
}
