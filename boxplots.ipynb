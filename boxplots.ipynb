{
 "cells": [
  {
   "cell_type": "markdown",
   "metadata": {},
   "source": [
    "# Box and Whisker Plots"
   ]
  },
  {
   "cell_type": "markdown",
   "metadata": {},
   "source": [
    "### Project Intentions\n",
    "\n",
    "* Look at the history of boxplots and the reasons why this graphical representation was adopted by so many in the 20th Century\n",
    "* Explain how to read box and whisker plots\n",
    "* Use boxplots, and variations of boxplots to graphically display data\n",
    "* Investigate the limitations of boxplots, and alternatives to boxplots"
   ]
  },
  {
   "cell_type": "markdown",
   "metadata": {},
   "source": [
    "### Libraries"
   ]
  },
  {
   "cell_type": "code",
   "execution_count": 2,
   "metadata": {},
   "outputs": [],
   "source": [
    "import numpy as np\n",
    "import matplotlib.pyplot as plt\n",
    "import pandas as pd\n",
    "import seaborn as sns\n",
    "%matplotlib inline"
   ]
  },
  {
   "cell_type": "markdown",
   "metadata": {},
   "source": [
    "### Definitions"
   ]
  },
  {
   "cell_type": "markdown",
   "metadata": {},
   "source": [
    "Before we look at box plots, it's important to know a little about the statistical measures a box plot represents. \n",
    "\n",
    "* **Maximum Value** is the largest numerical value in a data set. \n",
    "* **Minimum Value** is the smallest numerical value in a data set. \n",
    "* **The Range** is the difference between the Max and Min values.\n",
    "* **Outlier** is a data point that is noticeably larger or smaller than other data points in the set. \n",
    "* **Median** (Q2) is the middle value when data is ordered. It is a useful measure of central tendency, when the set contains extreme values or outliers. \n",
    "* **Lower Quartile** (Q1) is the median of the lower half of the data set. \n",
    "* **Upper Quartile** (Q3) is the median of the upper half of the data set. \n",
    "* **Interquartile Range** is the difference between the Q3 and Q1 values. It is a measure of spread which can be useful in sets containing outliers. "
   ]
  },
  {
   "cell_type": "markdown",
   "metadata": {},
   "source": [
    "A basic boxplot, is a graphical representation of these statistics. \n",
    "\n",
    "<img src='images/boxplot_basic.png' width = 50% align = 'left' style ='margin:0px 60px' >\n",
    "<br>\n",
    "1. Minimum value\n",
    "2. Lower Quartile (Q1)\n",
    "3. Median(Q2)\n",
    "4. Upper Quartile(Q3)\n",
    "5. Maximum value"
   ]
  },
  {
   "cell_type": "markdown",
   "metadata": {},
   "source": [
    "In a box plot the length of the whiskers, the lines extending from the box, is equal to the range.\n",
    "\n",
    "The length of the box is equal to the Interquartile Range, and 50% of my data is contained within the box."
   ]
  },
  {
   "cell_type": "markdown",
   "metadata": {},
   "source": [
    "### History of the Boxplot"
   ]
  },
  {
   "cell_type": "markdown",
   "metadata": {},
   "source": [
    "The boxplot was intially devised by John Tukey in the 1970s. It was an easy way to graphically represent summary statistics, and could be easily completed by hand. Even today at GCSE level, Maths students in England use cumulative frequency curves to quickly calculate statistics and construct a boxplot by hand. Although the boxplot has been widely adopted in the last 50 years, it's a graphical representation that has never been taught in Irish schools.\n",
    "\n",
    "![John W. Tukey](https://upload.wikimedia.org/wikipedia/en/e/e9/John_Tukey.jpg)"
   ]
  },
  {
   "cell_type": "markdown",
   "metadata": {},
   "source": [
    "### Usefulness\n",
    "- Ideal for looking at the distribution of ranked data.\n",
    "- Box plots allow for quick comparison between datasets.\n",
    "- Box plots are similar to histograms, but the shape of a histogram can be infleunced by the number of bins you choose. You don't have this problem with box plots. "
   ]
  },
  {
   "cell_type": "markdown",
   "metadata": {},
   "source": [
    "#### Standard Normal Distribution with and without Outliers"
   ]
  },
  {
   "cell_type": "code",
   "execution_count": 31,
   "metadata": {},
   "outputs": [],
   "source": [
    "norm = np.random.standard_normal(1000)"
   ]
  },
  {
   "cell_type": "code",
   "execution_count": 32,
   "metadata": {},
   "outputs": [
    {
     "data": {
      "image/png": "[encoded data removed]",
      "text/plain": [
       "<Figure size 720x360 with 2 Axes>"
      ]
     },
     "metadata": {},
     "output_type": "display_data"
    }
   ],
   "source": [
    "f, (ax1, ax2) = plt.subplots(1, 2, sharey=True, figsize=(10,5))\n",
    "ax1.boxplot(norm, showcaps = True, showfliers= False)\n",
    "ax2.boxplot(norm, showcaps = True, showmeans = True);"
   ]
  },
  {
   "cell_type": "code",
   "execution_count": 90,
   "metadata": {},
   "outputs": [
    {
     "data": {
      "image/png": "[encoded data removed]",
      "text/plain": [
       "<Figure size 720x360 with 2 Axes>"
      ]
     },
     "metadata": {},
     "output_type": "display_data"
    }
   ],
   "source": [
    "f, axes = plt.subplots(1, 2, sharey = True, figsize=(10, 5))\n",
    "\n",
    "sns.boxplot(norm, showfliers = False, ax = axes[0],  orient = 'v');\n",
    "sns.boxplot(norm, ax=axes[1],  orient = 'v');\n",
    "#Reference: https://stackoverflow.com/questions/41384040/subplot-for-seaborn-boxplot"
   ]
  },
  {
   "cell_type": "markdown",
   "metadata": {},
   "source": [
    "Box plots can be used in conjunction with probability density functions, to make inferences about the range of values within which 50% or 25% of events lie. "
   ]
  },
  {
   "cell_type": "code",
   "execution_count": 93,
   "metadata": {},
   "outputs": [],
   "source": [
    "# Calculating percentiles\n",
    "q3 = np.percentile(norm, 75)\n",
    "q1 = np.percentile(norm, 25)\n",
    "top = np.max(norm)\n",
    "bottom = np.min(norm)"
   ]
  },
  {
   "cell_type": "code",
   "execution_count": 105,
   "metadata": {},
   "outputs": [
    {
     "data": {
      "image/png": "[encoded data removed]",
      "text/plain": [
       "<Figure size 720x360 with 2 Axes>"
      ]
     },
     "metadata": {},
     "output_type": "display_data"
    }
   ],
   "source": [
    "fig, (ax1, ax2) = plt.subplots(2, 1, figsize=(10, 5));\n",
    "#Subplot with PDF of normally distributed data and it's box plot\n",
    "sns.distplot(norm, ax = ax1, hist = None);\n",
    "sns.boxplot(norm, ax = ax2);\n",
    "x = np.arange(-4, 5)\n",
    "plt.xticks(x)\n",
    "# Vertical Lines at Q1 and Q3, max and min\n",
    "ax1.axvline(q1, 0, color = 'grey');\n",
    "ax1.axvline(q3, 0, color='grey');\n",
    "ax1.axvline(top, 0, color='grey');\n",
    "ax1.axvline(bottom, 0, color='grey');\n",
    "# Reference: https://stackoverflow.com/questions/24988448/how-to-draw-vertical-lines-on-a-given-plot-in-matplotlib"
   ]
  },
  {
   "cell_type": "markdown",
   "metadata": {},
   "source": [
    "### Comparing Distributions"
   ]
  },
  {
   "cell_type": "code",
   "execution_count": 8,
   "metadata": {},
   "outputs": [],
   "source": [
    "bino = np.random.binomial(8, 0.6, 1000)\n",
    "gama = np.random.uniform(5, 2, 1000)"
   ]
  },
  {
   "cell_type": "code",
   "execution_count": 20,
   "metadata": {},
   "outputs": [
    {
     "data": {
      "image/png": "[encoded data removed]",
      "text/plain": [
       "<Figure size 720x360 with 1 Axes>"
      ]
     },
     "metadata": {},
     "output_type": "display_data"
    }
   ],
   "source": [
    "data = [norm, bino, gama]\n",
    "\n",
    "fig = plt.figure(figsize = (10,5))\n",
    "fig.suptitle('Comparing Distributions', fontsize=14)\n",
    "\n",
    "ax = fig.add_subplot(111)\n",
    "ax.boxplot(data, 1,  vert = False);\n",
    "plt.yticks([1, 2, 3], ['Standard Normal', 'Binomial', 'Uniform'])\n",
    "plt.show()"
   ]
  },
  {
   "cell_type": "markdown",
   "metadata": {},
   "source": [
    "### Variations"
   ]
  },
  {
   "cell_type": "code",
   "execution_count": null,
   "metadata": {},
   "outputs": [],
   "source": []
  },
  {
   "cell_type": "code",
   "execution_count": null,
   "metadata": {},
   "outputs": [],
   "source": []
  },
  {
   "cell_type": "code",
   "execution_count": null,
   "metadata": {},
   "outputs": [],
   "source": []
  },
  {
   "cell_type": "code",
   "execution_count": null,
   "metadata": {},
   "outputs": [],
   "source": []
  },
  {
   "cell_type": "markdown",
   "metadata": {},
   "source": [
    "### Alternatives"
   ]
  },
  {
   "cell_type": "markdown",
   "metadata": {},
   "source": [
    "#### Violin Plot"
   ]
  },
  {
   "cell_type": "code",
   "execution_count": 14,
   "metadata": {},
   "outputs": [
    {
     "data": {
      "image/png": "[encoded data removed]",
      "text/plain": [
       "<Figure size 432x288 with 1 Axes>"
      ]
     },
     "metadata": {},
     "output_type": "display_data"
    }
   ],
   "source": [
    "exp = np.random.exponential(2, 3500)\n",
    "sns.boxplot(exp,notch=1);"
   ]
  },
  {
   "cell_type": "code",
   "execution_count": 17,
   "metadata": {},
   "outputs": [
    {
     "data": {
      "image/png": "[encoded data removed]",
      "text/plain": [
       "<Figure size 720x360 with 1 Axes>"
      ]
     },
     "metadata": {},
     "output_type": "display_data"
    }
   ],
   "source": [
    "fig, (ax1) = plt.subplots(1, figsize=(10, 5));\n",
    "sns.violinplot(exp, ax= ax1);\n",
    "\n",
    "# Plotting lines at max and min values\n",
    "bottom = np.min(exp)\n",
    "ax1.axvline(bottom, 0, color='k');\n",
    "top = np.max(exp)\n",
    "ax1.axvline(top, 0, color = 'k');"
   ]
  },
  {
   "cell_type": "markdown",
   "metadata": {},
   "source": [
    "### References"
   ]
  },
  {
   "cell_type": "markdown",
   "metadata": {},
   "source": [
    "* Hadley Wickham and Lisa Stryjewski. [40 years of boxplots](http://vita.had.co.nz/papers/boxplots.pdf), November 29, 2011.\n",
    "\n",
    "\n",
    "* [Boxplot, Seaborn Documentation](https://seaborn.pydata.org/generated/seaborn.boxplot.html)\n",
    "* [Boxplot, Mathplotlib Documentation](https://matplotlib.org/api/_as_gen/matplotlib.pyplot.boxplot.html)\n",
    "* [Understanding Boxplots, on TowardsDataScience.com](https://towardsdatascience.com/understanding-boxplots-5e2df7bcbd51)\n",
    "\n",
    "\n",
    "* [Box plot, Wikipedia page](https://en.wikipedia.org/wiki/Box_plot)\n",
    "* [John Tukey, Wikipedia page](https://en.wikipedia.org/wiki/John_Tukey)"
   ]
  }
 ],
 "metadata": {
  "kernelspec": {
   "display_name": "Python 3",
   "language": "python",
   "name": "python3"
  },
  "language_info": {
   "codemirror_mode": {
    "name": "ipython",
    "version": 3
   },
   "file_extension": ".py",
   "mimetype": "text/x-python",
   "name": "python",
   "nbconvert_exporter": "python",
   "pygments_lexer": "ipython3",
   "version": "3.6.5"
  }
 },
 "nbformat": 4,
 "nbformat_minor": 2
}
