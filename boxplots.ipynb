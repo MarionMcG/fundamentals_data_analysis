{
 "cells": [
  {
   "cell_type": "markdown",
   "metadata": {},
   "source": [
    "# Box and Whisker Plots"
   ]
  },
  {
   "cell_type": "markdown",
   "metadata": {},
   "source": [
    "### Project Intentions\n",
    "\n",
    "* Look at the history of boxplots and the reasons why this graphical representation was adopted by so many in the 20th Century\n",
    "* Explain how to read box and whisker plots\n",
    "* Use boxplots, and variations of boxplots to graphically display data\n",
    "* Investigate the limitations of boxplots, and alternatives to boxplots"
   ]
  },
  {
   "cell_type": "markdown",
   "metadata": {},
   "source": [
    "### Libraries"
   ]
  },
  {
   "cell_type": "code",
   "execution_count": 3,
   "metadata": {},
   "outputs": [],
   "source": [
    "import numpy as np\n",
    "import matplotlib as plt\n",
    "import seaborn as sns"
   ]
  },
  {
   "cell_type": "markdown",
   "metadata": {},
   "source": [
    "### Definitions"
   ]
  },
  {
   "cell_type": "markdown",
   "metadata": {},
   "source": [
    "Before we look at boxplots, it's important to know a little about the statistical measures a boxplot represents. \n",
    "\n",
    "* **Maximum Value** is the largest numerical value in a data set. \n",
    "* **Minimum Value** is the smallest numerical value in a data set. \n",
    "* **The Range** is the difference between the Max and Min values.\n",
    "* **Outlier** is a data point that is noticeably larger or smaller than other data points in the set. \n",
    "* **Median** (Q2) is the middle value when data is ordered. It is a useful measure of central tendency, when the set contains extreme values or outliers. \n",
    "* **Lower Quartile** (Q1) is the median of the lower half of the data set. \n",
    "* **Upper Quartile** (Q3) is the median of the upper half of the data set. \n",
    "* **Interquartile Range** is the difference between the Q3 and Q1 values. It is a measure of spread which can be useful in sets containing outliers. "
   ]
  },
  {
   "cell_type": "markdown",
   "metadata": {},
   "source": [
    "A basic boxplot, is a graphical representation of these statistics. \n",
    "\n",
    "<img src='images/boxplot_basic.png' width = 50% align = 'left' style ='margin:0px 60px' >\n",
    "<br>\n",
    "1. Minimum value\n",
    "2. Lower Quartile (Q1)\n",
    "3. Median(Q2)\n",
    "4. Upper Quartile(Q3)\n",
    "5. Maximum value"
   ]
  },
  {
   "cell_type": "markdown",
   "metadata": {},
   "source": [
    "In a box plot the length of the whiskers, the lines extending from the box, is equal to the range.\n",
    "\n",
    "The length of the box is equal to the Interquartile Range, and 50% of my data is contained within the box."
   ]
  },
  {
   "cell_type": "markdown",
   "metadata": {},
   "source": [
    "### History of the Boxplot"
   ]
  },
  {
   "cell_type": "markdown",
   "metadata": {},
   "source": [
    "### Usefulness"
   ]
  },
  {
   "cell_type": "markdown",
   "metadata": {},
   "source": [
    "### Variations"
   ]
  },
  {
   "cell_type": "markdown",
   "metadata": {},
   "source": [
    "### Alternatives"
   ]
  },
  {
   "cell_type": "markdown",
   "metadata": {},
   "source": [
    "### References"
   ]
  },
  {
   "cell_type": "markdown",
   "metadata": {},
   "source": [
    "* Hadley Wickham and Lisa Stryjewski. [40 years of boxplots](http://vita.had.co.nz/papers/boxplots.pdf), November 29, 2011.\n",
    "\n",
    "\n",
    "* [Box plot, Wikipedia page](https://en.wikipedia.org/wiki/Box_plot)\n",
    "* [John Tukey, Wikipedia page](https://en.wikipedia.org/wiki/John_Tukey)"
   ]
  },
  {
   "cell_type": "code",
   "execution_count": null,
   "metadata": {},
   "outputs": [],
   "source": []
  }
 ],
 "metadata": {
  "kernelspec": {
   "display_name": "Python 3",
   "language": "python",
   "name": "python3"
  },
  "language_info": {
   "codemirror_mode": {
    "name": "ipython",
    "version": 3
   },
   "file_extension": ".py",
   "mimetype": "text/x-python",
   "name": "python",
   "nbconvert_exporter": "python",
   "pygments_lexer": "ipython3",
   "version": "3.6.5"
  }
 },
 "nbformat": 4,
 "nbformat_minor": 2
}
